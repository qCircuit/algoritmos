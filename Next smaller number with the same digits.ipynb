{
 "cells": [
  {
   "cell_type": "code",
   "execution_count": 1,
   "metadata": {},
   "outputs": [
    {
     "data": {
      "text/plain": [
       "['2', '0', '1', '7']"
      ]
     },
     "execution_count": 1,
     "metadata": {},
     "output_type": "execute_result"
    }
   ],
   "source": [
    "def next_smaller(n):\n",
    "    s = list(str(n))\n",
    "    i = j = len(s) - 1\n",
    "    while i > 0 and s[i - 1] <= s[i]: i -= 1\n",
    "    if i <= 0: return -1\n",
    "    while s[j] >= s[i - 1]: j -= 1\n",
    "    s[i - 1], s[j] = s[j], s[i - 1]\n",
    "    s[i:] = reversed(s[i:])\n",
    "    if s[0] == '0': return -1\n",
    "    return int(''.join(s))"
   ]
  }
 ],
 "metadata": {
  "kernelspec": {
   "display_name": "base",
   "language": "python",
   "name": "python3"
  },
  "language_info": {
   "codemirror_mode": {
    "name": "ipython",
    "version": 3
   },
   "file_extension": ".py",
   "mimetype": "text/x-python",
   "name": "python",
   "nbconvert_exporter": "python",
   "pygments_lexer": "ipython3",
   "version": "3.10.9"
  }
 },
 "nbformat": 4,
 "nbformat_minor": 2
}
