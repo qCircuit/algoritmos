{
 "cells": [
  {
   "cell_type": "code",
   "execution_count": 1,
   "metadata": {},
   "outputs": [],
   "source": [
    "gas = [1,2,3,4,5]\n",
    "cost = [3,4,5,1,2]"
   ]
  },
  {
   "cell_type": "code",
   "execution_count": 3,
   "metadata": {},
   "outputs": [
    {
     "data": {
      "text/plain": [
       "3"
      ]
     },
     "execution_count": 3,
     "metadata": {},
     "output_type": "execute_result"
    }
   ],
   "source": [
    "def canCompleteCircuit(gas, cost) -> int:\n",
    "    if sum(gas) < sum(cost):\n",
    "        return -1\n",
    "    total = 0\n",
    "    start = 0\n",
    "    for i in range(len(gas)):\n",
    "        total += (gas[i] - cost[i])\n",
    "\n",
    "        if total < 0:\n",
    "            total = 0\n",
    "            start = i+1\n",
    "\n",
    "    return start\n",
    "\n",
    "canCompleteCircuit(gas, cost)"
   ]
  },
  {
   "cell_type": "code",
   "execution_count": null,
   "metadata": {},
   "outputs": [],
   "source": [
    "if sum(gas) - sum(cost):\n",
    "    return -1\n",
    "\n",
    "total, start = 0, 0\n",
    "\n",
    "for i in rnage(len(gas)):\n",
    "    total += gas[i] - cost[i]\n",
    "    if total < 0:\n",
    "        total = 0\n",
    "        start = i + 1\n",
    "\n",
    "return start"
   ]
  }
 ],
 "metadata": {
  "kernelspec": {
   "display_name": "base",
   "language": "python",
   "name": "python3"
  },
  "language_info": {
   "codemirror_mode": {
    "name": "ipython",
    "version": 3
   },
   "file_extension": ".py",
   "mimetype": "text/x-python",
   "name": "python",
   "nbconvert_exporter": "python",
   "pygments_lexer": "ipython3",
   "version": "3.10.9"
  },
  "orig_nbformat": 4
 },
 "nbformat": 4,
 "nbformat_minor": 2
}
