{
 "cells": [
  {
   "cell_type": "code",
   "execution_count": 5,
   "metadata": {},
   "outputs": [
    {
     "name": "stdout",
     "output_type": "stream",
     "text": [
      "3 4\n",
      "1 3\n",
      "0 2\n",
      "1 1\n",
      "[8, 7, 1, 5, 9]\n"
     ]
    }
   ],
   "source": [
    "'''\n",
    "Дан массив nums уникальных положительных целых чисел размера N.\n",
    "Функция random(k), возвращающая случайное целое число из множества {0,1,2, ...,k-1}. \n",
    "(функция уже реализована) Требуется распечатать все элементы массива num в случайном \n",
    "порядке, используя функцию random. Элементы распечатанные не должны повторяться \n",
    "ограничение по памяти 0(1)\n",
    "'''\n",
    "\n",
    "import random \n",
    "\n",
    "def randomize_array(nums):\n",
    "    n = len(nums)\n",
    "    for i in range(n-1, 0, -1):\n",
    "        r = random.randint(0,i)\n",
    "        nums[i], nums[r] = nums[r], nums[i]\n",
    "\n",
    "nums = [1, 5, 8, 9, 7]\n",
    "randomize_array(nums)\n",
    "print(nums)"
   ]
  },
  {
   "cell_type": "code",
   "execution_count": 6,
   "metadata": {},
   "outputs": [
    {
     "name": "stdout",
     "output_type": "stream",
     "text": [
      "[7, 9, 5, 8, 1]\n"
     ]
    }
   ],
   "source": [
    "import random\n",
    "\n",
    "\n",
    "nums = [1, 5, 8, 9, 7]\n",
    "randomize_array(nums)\n",
    "print(nums)"
   ]
  }
 ],
 "metadata": {
  "kernelspec": {
   "display_name": "base",
   "language": "python",
   "name": "python3"
  },
  "language_info": {
   "codemirror_mode": {
    "name": "ipython",
    "version": 3
   },
   "file_extension": ".py",
   "mimetype": "text/x-python",
   "name": "python",
   "nbconvert_exporter": "python",
   "pygments_lexer": "ipython3",
   "version": "3.10.9"
  }
 },
 "nbformat": 4,
 "nbformat_minor": 2
}
