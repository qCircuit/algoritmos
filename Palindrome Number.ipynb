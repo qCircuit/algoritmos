{
 "cells": [
  {
   "cell_type": "code",
   "execution_count": 6,
   "metadata": {},
   "outputs": [
    {
     "data": {
      "text/plain": [
       "False"
      ]
     },
     "execution_count": 6,
     "metadata": {},
     "output_type": "execute_result"
    }
   ],
   "source": [
    "def isPalindrome(x: int):\n",
    "    return str(x) == str(x)[::-1]\n",
    "\n",
    "x = 121\n",
    "x = -121\n",
    "x = 10\n",
    "isPalindrome(x)"
   ]
  },
  {
   "cell_type": "code",
   "execution_count": 14,
   "metadata": {},
   "outputs": [
    {
     "data": {
      "text/plain": [
       "False"
      ]
     },
     "execution_count": 14,
     "metadata": {},
     "output_type": "execute_result"
    }
   ],
   "source": [
    "def isPalindrome(x: int):\n",
    "    if x < 0: return False\n",
    "\n",
    "    div = 1\n",
    "    # get the divider\n",
    "    while x >= 10 * div:\n",
    "        div *= 10\n",
    "\n",
    "    while x:\n",
    "        # get right digit\n",
    "        right = x % 10\n",
    "        # get left digit\n",
    "        left = x // div\n",
    "\n",
    "        if left != right: return False\n",
    "        # cut of left then right\n",
    "        x = (x % div) // 10\n",
    "        div /= 100\n",
    "    return True\n",
    "\n",
    "x = 121\n",
    "x = -121\n",
    "# x = 10\n",
    "isPalindrome(x)"
   ]
  },
  {
   "cell_type": "code",
   "execution_count": null,
   "metadata": {},
   "outputs": [],
   "source": [
    "121\n",
    "21 "
   ]
  }
 ],
 "metadata": {
  "kernelspec": {
   "display_name": "base",
   "language": "python",
   "name": "python3"
  },
  "language_info": {
   "codemirror_mode": {
    "name": "ipython",
    "version": 3
   },
   "file_extension": ".py",
   "mimetype": "text/x-python",
   "name": "python",
   "nbconvert_exporter": "python",
   "pygments_lexer": "ipython3",
   "version": "3.10.9"
  }
 },
 "nbformat": 4,
 "nbformat_minor": 2
}
