{
 "cells": [
  {
   "cell_type": "markdown",
   "metadata": {},
   "source": []
  },
  {
   "cell_type": "code",
   "execution_count": null,
   "metadata": {},
   "outputs": [],
   "source": []
  },
  {
   "cell_type": "code",
   "execution_count": null,
   "metadata": {},
   "outputs": [],
   "source": [
    "select * from \n",
    "    (select \n",
    "        c.id as customer_id,\n",
    "        t.transaction_id,\n",
    "        t.amount\n",
    "    from customers c\n",
    "    where c.reg_date > \"2022-01-01\") t1\n",
    "    left join \n",
    "    (select \n",
    "        *\n",
    "    from transactions t \n",
    "    where t.posting_date > \"2022-01-01\"\n",
    "    and t.amount > 1000)\n",
    "    on t.customer_id = c.id"
   ]
  },
  {
   "cell_type": "markdown",
   "metadata": {},
   "source": [
    "даны вероятности, вернуть с вероятностью, указанной в probs, индексы с размерностью size.\n",
    "function allowed random.random() "
   ]
  },
  {
   "cell_type": "code",
   "execution_count": 38,
   "metadata": {},
   "outputs": [],
   "source": [
    "import random\n",
    "\n",
    "probs = [0.1, 0.4, 0.2, 0.3]\n",
    "size = 7\n",
    "\n",
    "def cumsum(probs):\n",
    "    cumsum = 0\n",
    "    result = []\n",
    "    for i in probs:\n",
    "        cumsum += i\n",
    "        result.append(cumsum)\n",
    "    return result\n"
   ]
  },
  {
   "cell_type": "code",
   "execution_count": 41,
   "metadata": {},
   "outputs": [
    {
     "data": {
      "text/plain": [
       "[1, 0, 3, 2, 1, 1, 2]"
      ]
     },
     "execution_count": 41,
     "metadata": {},
     "output_type": "execute_result"
    }
   ],
   "source": [
    "def weighted_choice(probs, size):\n",
    "    cums = cumsum(probs)\n",
    "    res = []\n",
    "    for i in range(size):\n",
    "        r = random.random()\n",
    "        for j, c in enumerate(cums):\n",
    "            if r <= c:\n",
    "                res.append(j)\n",
    "                break\n",
    "    return res\n",
    "\n",
    "weighted_choice(probs, size)"
   ]
  },
  {
   "cell_type": "code",
   "execution_count": 22,
   "metadata": {},
   "outputs": [],
   "source": [
    "cumsum = [0.1, 0.5, 0.7, 1]"
   ]
  },
  {
   "cell_type": "code",
   "execution_count": 35,
   "metadata": {},
   "outputs": [
    {
     "data": {
      "text/plain": [
       "[0, 2, 2, 1, 0, 3, 1]"
      ]
     },
     "execution_count": 35,
     "metadata": {},
     "output_type": "execute_result"
    }
   ],
   "source": [
    "array = []\n",
    "\n",
    "def get_val():\n",
    "    value = random.random()\n",
    "    for i in range(len(cumsum)):\n",
    "        if cumsum[i] >= value:\n",
    "            return i\n",
    "\n",
    "for _ in range(size):\n",
    "    array.append(get_val())\n",
    "\n",
    "array"
   ]
  },
  {
   "cell_type": "code",
   "execution_count": 5,
   "metadata": {},
   "outputs": [
    {
     "name": "stdout",
     "output_type": "stream",
     "text": [
      "[20]\n"
     ]
    }
   ],
   "source": [
    "def foo(x, a=[]):\n",
    "    if x > 10:\n",
    "        x += 10\n",
    "    else:\n",
    "        x *= 10\n",
    "    a.append(x)\n",
    "    return a\n",
    "\n",
    "print(foo(2))"
   ]
  },
  {
   "cell_type": "code",
   "execution_count": 9,
   "metadata": {},
   "outputs": [
    {
     "ename": "TypeError",
     "evalue": "'tuple' object does not support item assignment",
     "output_type": "error",
     "traceback": [
      "\u001b[0;31m---------------------------------------------------------------------------\u001b[0m",
      "\u001b[0;31mTypeError\u001b[0m                                 Traceback (most recent call last)",
      "\u001b[1;32m/home/hilbert/algoritmos/test1.ipynb Cell 7\u001b[0m line \u001b[0;36m3\n\u001b[1;32m      <a href='vscode-notebook-cell:/home/hilbert/algoritmos/test1.ipynb#W6sZmlsZQ%3D%3D?line=0'>1</a>\u001b[0m t \u001b[39m=\u001b[39m (\u001b[39m\"\u001b[39m\u001b[39mhallo\u001b[39m\u001b[39m\"\u001b[39m, [\u001b[39m1\u001b[39m,\u001b[39m2\u001b[39m,\u001b[39m3\u001b[39m])\n\u001b[1;32m      <a href='vscode-notebook-cell:/home/hilbert/algoritmos/test1.ipynb#W6sZmlsZQ%3D%3D?line=1'>2</a>\u001b[0m t[\u001b[39m1\u001b[39m]\u001b[39m.\u001b[39mappend(\u001b[39m4\u001b[39m)\n\u001b[0;32m----> <a href='vscode-notebook-cell:/home/hilbert/algoritmos/test1.ipynb#W6sZmlsZQ%3D%3D?line=2'>3</a>\u001b[0m t[\u001b[39m0\u001b[39;49m]\u001b[39m=\u001b[39m\u001b[39m\"\u001b[39m\u001b[39mbye\u001b[39m\u001b[39m\"\u001b[39m\n",
      "\u001b[0;31mTypeError\u001b[0m: 'tuple' object does not support item assignment"
     ]
    }
   ],
   "source": [
    "t = (\"hallo\", [1,2,3])\n",
    "t[1].append(4)\n",
    "t[0]=\"bye\""
   ]
  },
  {
   "cell_type": "code",
   "execution_count": 27,
   "metadata": {},
   "outputs": [
    {
     "data": {
      "text/plain": [
       "array([[ 0,  1,  2,  3,  4],\n",
       "       [ 5,  6,  7,  8,  9],\n",
       "       [10, 11, 12, 13, 14],\n",
       "       [15, 16, 17, 18, 19],\n",
       "       [20, 21, 22, 23, 24]])"
      ]
     },
     "execution_count": 27,
     "metadata": {},
     "output_type": "execute_result"
    }
   ],
   "source": [
    "import numpy as np\n",
    "np.arange(25).reshape(5,5)"
   ]
  },
  {
   "cell_type": "code",
   "execution_count": 26,
   "metadata": {},
   "outputs": [
    {
     "data": {
      "text/plain": [
       "[[0, 1, 2, 3, 4],\n",
       " [5, 6, 7, 8, 9],\n",
       " [10, 11, 12, 13, 14],\n",
       " [15, 16, 17, 18, 19],\n",
       " [20, 21, 22, 23, 24]]"
      ]
     },
     "execution_count": 26,
     "metadata": {},
     "output_type": "execute_result"
    }
   ],
   "source": [
    "import random\n",
    "\n",
    "m = [[0 for _ in range(5)] for _ in range(5)]\n",
    "n = 0\n",
    "for i in range(5):\n",
    "    for j in range(5):\n",
    "        m[i][j] = n\n",
    "        n += 1\n",
    "m"
   ]
  },
  {
   "cell_type": "code",
   "execution_count": 44,
   "metadata": {},
   "outputs": [
    {
     "data": {
      "text/plain": [
       "'abc'"
      ]
     },
     "execution_count": 44,
     "metadata": {},
     "output_type": "execute_result"
    }
   ],
   "source": [
    "t = \"abcc\"\n",
    "\n",
    "max_string = \"\"\n",
    "start = 0\n",
    "indices = {}\n",
    "uniq = set()\n",
    "\n",
    "for i,v in enumerate(t):\n",
    "    if v in uniq:\n",
    "        max_string = max(max_string, t[start:i], key=lambda v: len(v))\n",
    "        start = indices[v] + 1\n",
    "        uniq = set(t[start:i])\n",
    "    indices[v] = i\n",
    "    uniq.add(v)\n",
    "\n",
    "max_string = max(max_string, t[start:i], key=lambda v: len(v))\n",
    "max_string"
   ]
  },
  {
   "cell_type": "code",
   "execution_count": 18,
   "metadata": {},
   "outputs": [
    {
     "data": {
      "text/plain": [
       "10"
      ]
     },
     "execution_count": 18,
     "metadata": {},
     "output_type": "execute_result"
    }
   ],
   "source": [
    "n = 8\n",
    "\n",
    "def round_to(n):\n",
    "    if n%5 == 0:\n",
    "        return n\n",
    "\n",
    "    return n + 5 - n%5\n",
    "round_to(n)"
   ]
  },
  {
   "cell_type": "code",
   "execution_count": 26,
   "metadata": {},
   "outputs": [
    {
     "data": {
      "text/plain": [
       "2"
      ]
     },
     "execution_count": 26,
     "metadata": {},
     "output_type": "execute_result"
    }
   ],
   "source": [
    "arr = [\"aBc\", \"bcA\", \"Cba\", \"aB\", \"ba\", \"BA\"]\n",
    "\n",
    "arr = [x.lower() for x in arr]\n",
    "# arr = [sorted(x.split()) for x in arr]\n",
    "len(set([\"\".join(sorted(x)) for x in arr]))"
   ]
  },
  {
   "cell_type": "code",
   "execution_count": 3,
   "metadata": {},
   "outputs": [
    {
     "data": {
      "text/plain": [
       "['A', 'B', 'C', 'D', 'A', 'B', 'E']"
      ]
     },
     "execution_count": 3,
     "metadata": {},
     "output_type": "execute_result"
    }
   ],
   "source": [
    "def unique_in_order(sequence):\n",
    "    if len(sequence) == 0:\n",
    "        return []\n",
    "    result = [sequence[0]]\n",
    "    for i in range(len(sequence)-1):\n",
    "        if sequence[i] != sequence[i+1]:\n",
    "            result.append(sequence[i+1])\n",
    "        else:\n",
    "            continue\n",
    "\n",
    "    return result\n",
    "\n",
    "unique_in_order('AAAABBBCCDAABBBE')"
   ]
  },
  {
   "cell_type": "code",
   "execution_count": 5,
   "metadata": {},
   "outputs": [
    {
     "data": {
      "text/plain": [
       "[{'age': 10}, {'age': 30}, {'age': 34}]"
      ]
     },
     "execution_count": 5,
     "metadata": {},
     "output_type": "execute_result"
    }
   ],
   "source": [
    "ages = [{\"age\": 30}, {\"age\": 10}, {\"age\": 34}]\n",
    "sorted(ages, key=lambda v: v[\"age\"])"
   ]
  },
  {
   "cell_type": "code",
   "execution_count": 7,
   "metadata": {},
   "outputs": [
    {
     "data": {
      "text/plain": [
       "{True: 3}"
      ]
     },
     "execution_count": 7,
     "metadata": {},
     "output_type": "execute_result"
    }
   ],
   "source": [
    "{True: 1, 1: 2, 1.0:3}"
   ]
  },
  {
   "cell_type": "code",
   "execution_count": 12,
   "metadata": {},
   "outputs": [
    {
     "name": "stdout",
     "output_type": "stream",
     "text": [
      "3\n"
     ]
    }
   ],
   "source": [
    "def foo():\n",
    "    a=1\n",
    "    def bar():\n",
    "        nonlocal a\n",
    "        a += 2\n",
    "        print(a)\n",
    "    bar()\n",
    "foo()"
   ]
  },
  {
   "cell_type": "code",
   "execution_count": 6,
   "metadata": {},
   "outputs": [],
   "source": [
    "a = {1:1, 2:2} # error\n",
    "b = [1, 2] # error \n",
    "c = (1,2) # ok\n",
    "d = set([1,2]) # error\n",
    "class DictKey():\n",
    "    def __init__(self, name):\n",
    "        self.name = name\n",
    "e = DictKey('e') # ok\n",
    "\n",
    "test_dict = {}\n",
    "test_dict[e] = \"value\""
   ]
  },
  {
   "cell_type": "code",
   "execution_count": 8,
   "metadata": {},
   "outputs": [
    {
     "data": {
      "text/plain": [
       "{('a', 'b', 'c'),\n",
       " ('a', 'c', 'b'),\n",
       " ('b', 'a', 'c'),\n",
       " ('b', 'c', 'a'),\n",
       " ('c', 'a', 'b'),\n",
       " ('c', 'b', 'a')}"
      ]
     },
     "execution_count": 8,
     "metadata": {},
     "output_type": "execute_result"
    }
   ],
   "source": [
    "inp = \"abc\"\n",
    "\n",
    "from itertools import permutations \n",
    "\n",
    "set(permutations(inp))"
   ]
  },
  {
   "cell_type": "code",
   "execution_count": null,
   "metadata": {},
   "outputs": [],
   "source": [
    "select \n",
    "  name || \" \" || surname || \" \" || patron "
   ]
  },
  {
   "cell_type": "code",
   "execution_count": null,
   "metadata": {},
   "outputs": [],
   "source": [
    "select \n",
    "id, weight, name, \n",
    "avg(weight) over (order by id rows between 2 preceeding and current row)"
   ]
  },
  {
   "cell_type": "code",
   "execution_count": null,
   "metadata": {},
   "outputs": [],
   "source": [
    "select \n",
    "isbn, price \n",
    "from products p\n",
    "left join companies c\n",
    "on p.name = c.name"
   ]
  },
  {
   "cell_type": "code",
   "execution_count": null,
   "metadata": {},
   "outputs": [],
   "source": []
  }
 ],
 "metadata": {
  "kernelspec": {
   "display_name": "base",
   "language": "python",
   "name": "python3"
  },
  "language_info": {
   "codemirror_mode": {
    "name": "ipython",
    "version": 3
   },
   "file_extension": ".py",
   "mimetype": "text/x-python",
   "name": "python",
   "nbconvert_exporter": "python",
   "pygments_lexer": "ipython3",
   "version": "3.10.9"
  }
 },
 "nbformat": 4,
 "nbformat_minor": 2
}
