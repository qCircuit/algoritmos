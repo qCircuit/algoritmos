{
 "cells": [
  {
   "cell_type": "markdown",
   "metadata": {},
   "source": [
    "даны вероятности, вернуть с вероятностью, указанной в probs, индексы с размерностью size.\n",
    "function allowed random.random() "
   ]
  },
  {
   "cell_type": "code",
   "execution_count": 38,
   "metadata": {},
   "outputs": [],
   "source": [
    "import random\n",
    "\n",
    "probs = [0.1, 0.4, 0.2, 0.3]\n",
    "size = 7\n",
    "\n",
    "def cumsum(probs):\n",
    "    cumsum = 0\n",
    "    result = []\n",
    "    for i in probs:\n",
    "        cumsum += i\n",
    "        result.append(cumsum)\n",
    "    return result\n"
   ]
  },
  {
   "cell_type": "code",
   "execution_count": 41,
   "metadata": {},
   "outputs": [
    {
     "data": {
      "text/plain": [
       "[1, 0, 3, 2, 1, 1, 2]"
      ]
     },
     "execution_count": 41,
     "metadata": {},
     "output_type": "execute_result"
    }
   ],
   "source": [
    "def weighted_choice(probs, size):\n",
    "    cums = cumsum(probs)\n",
    "    res = []\n",
    "    for i in range(size):\n",
    "        r = random.random()\n",
    "        for j, c in enumerate(cums):\n",
    "            if r <= c:\n",
    "                res.append(j)\n",
    "                break\n",
    "    return res\n",
    "\n",
    "weighted_choice(probs, size)"
   ]
  },
  {
   "cell_type": "code",
   "execution_count": 22,
   "metadata": {},
   "outputs": [],
   "source": [
    "cumsum = [0.1, 0.5, 0.7, 1]"
   ]
  },
  {
   "cell_type": "code",
   "execution_count": 35,
   "metadata": {},
   "outputs": [
    {
     "data": {
      "text/plain": [
       "[0, 2, 2, 1, 0, 3, 1]"
      ]
     },
     "execution_count": 35,
     "metadata": {},
     "output_type": "execute_result"
    }
   ],
   "source": [
    "array = []\n",
    "\n",
    "def get_val():\n",
    "    value = random.random()\n",
    "    for i in range(len(cumsum)):\n",
    "        if cumsum[i] >= value:\n",
    "            return i\n",
    "\n",
    "for _ in range(size):\n",
    "    array.append(get_val())\n",
    "\n",
    "array"
   ]
  },
  {
   "cell_type": "code",
   "execution_count": 5,
   "metadata": {},
   "outputs": [
    {
     "name": "stdout",
     "output_type": "stream",
     "text": [
      "[20]\n"
     ]
    }
   ],
   "source": [
    "def foo(x, a=[]):\n",
    "    if x > 10:\n",
    "        x += 10\n",
    "    else:\n",
    "        x *= 10\n",
    "    a.append(x)\n",
    "    return a\n",
    "\n",
    "print(foo(2))"
   ]
  },
  {
   "cell_type": "code",
   "execution_count": 9,
   "metadata": {},
   "outputs": [
    {
     "ename": "TypeError",
     "evalue": "'tuple' object does not support item assignment",
     "output_type": "error",
     "traceback": [
      "\u001b[0;31m---------------------------------------------------------------------------\u001b[0m",
      "\u001b[0;31mTypeError\u001b[0m                                 Traceback (most recent call last)",
      "\u001b[1;32m/home/hilbert/algoritmos/test1.ipynb Cell 7\u001b[0m line \u001b[0;36m3\n\u001b[1;32m      <a href='vscode-notebook-cell:/home/hilbert/algoritmos/test1.ipynb#W6sZmlsZQ%3D%3D?line=0'>1</a>\u001b[0m t \u001b[39m=\u001b[39m (\u001b[39m\"\u001b[39m\u001b[39mhallo\u001b[39m\u001b[39m\"\u001b[39m, [\u001b[39m1\u001b[39m,\u001b[39m2\u001b[39m,\u001b[39m3\u001b[39m])\n\u001b[1;32m      <a href='vscode-notebook-cell:/home/hilbert/algoritmos/test1.ipynb#W6sZmlsZQ%3D%3D?line=1'>2</a>\u001b[0m t[\u001b[39m1\u001b[39m]\u001b[39m.\u001b[39mappend(\u001b[39m4\u001b[39m)\n\u001b[0;32m----> <a href='vscode-notebook-cell:/home/hilbert/algoritmos/test1.ipynb#W6sZmlsZQ%3D%3D?line=2'>3</a>\u001b[0m t[\u001b[39m0\u001b[39;49m]\u001b[39m=\u001b[39m\u001b[39m\"\u001b[39m\u001b[39mbye\u001b[39m\u001b[39m\"\u001b[39m\n",
      "\u001b[0;31mTypeError\u001b[0m: 'tuple' object does not support item assignment"
     ]
    }
   ],
   "source": [
    "t = (\"hallo\", [1,2,3])\n",
    "t[1].append(4)\n",
    "t[0]=\"bye\""
   ]
  }
 ],
 "metadata": {
  "kernelspec": {
   "display_name": "base",
   "language": "python",
   "name": "python3"
  },
  "language_info": {
   "codemirror_mode": {
    "name": "ipython",
    "version": 3
   },
   "file_extension": ".py",
   "mimetype": "text/x-python",
   "name": "python",
   "nbconvert_exporter": "python",
   "pygments_lexer": "ipython3",
   "version": "3.10.9"
  }
 },
 "nbformat": 4,
 "nbformat_minor": 2
}
