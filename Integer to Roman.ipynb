{
 "cells": [
  {
   "cell_type": "code",
   "execution_count": 3,
   "metadata": {},
   "outputs": [
    {
     "data": {
      "text/plain": [
       "'MCMXCIV'"
      ]
     },
     "execution_count": 3,
     "metadata": {},
     "output_type": "execute_result"
    }
   ],
   "source": [
    "def intToRoman(num: int): \n",
    "    symList = [\n",
    "        [\"M\", 1000],\n",
    "        [\"CM\", 900],\n",
    "        [\"D\", 500],\n",
    "        [\"CD\", 400],\n",
    "        [\"C\", 100],\n",
    "        [\"XC\", 90],\n",
    "        [\"L\", 50],\n",
    "        [\"XL\", 40],\n",
    "        [\"X\", 10],\n",
    "        [\"IX\", 9],\n",
    "        [\"V\", 5],\n",
    "        [\"IV\", 4],\n",
    "        [\"I\", 1]\n",
    "    ]\n",
    "\n",
    "    res = \"\"\n",
    "    for sym, val in symList:\n",
    "        if num // val:\n",
    "            count = num // val\n",
    "            res += count * sym\n",
    "            num = num % val\n",
    "\n",
    "    return res\n",
    "\n",
    "num = 1994\n",
    "intToRoman(num)"
   ]
  }
 ],
 "metadata": {
  "kernelspec": {
   "display_name": "base",
   "language": "python",
   "name": "python3"
  },
  "language_info": {
   "codemirror_mode": {
    "name": "ipython",
    "version": 3
   },
   "file_extension": ".py",
   "mimetype": "text/x-python",
   "name": "python",
   "nbconvert_exporter": "python",
   "pygments_lexer": "ipython3",
   "version": "3.10.9"
  },
  "orig_nbformat": 4
 },
 "nbformat": 4,
 "nbformat_minor": 2
}
