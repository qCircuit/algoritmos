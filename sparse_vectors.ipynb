{
 "cells": [
  {
   "cell_type": "code",
   "execution_count": 8,
   "metadata": {},
   "outputs": [],
   "source": [
    "num1 = [0,0,3,40,0,0,0,5,0]\n",
    "num2 = [1,0,0,2,0,14,0,0,0]\n",
    "\n",
    "num1 = [1,0,0,2,3]\n",
    "num2 = [0,3,0,4,0]"
   ]
  },
  {
   "cell_type": "code",
   "execution_count": 13,
   "metadata": {},
   "outputs": [
    {
     "data": {
      "text/plain": [
       "8"
      ]
     },
     "execution_count": 13,
     "metadata": {},
     "output_type": "execute_result"
    }
   ],
   "source": [
    "class SparseVector:\n",
    "    def __init__(self, nums):\n",
    "        self.pairs = []\n",
    "        \n",
    "        for i,num in enumerate(nums):\n",
    "            if num != 0:\n",
    "                self.pairs.append((i,num))\n",
    "                \n",
    "    # runtime complexity is O(M+N)\n",
    "    def dotProduct(self, vec: 'SparseVector') -> int:\n",
    "        result = 0\n",
    "        p , q = 0, 0 # 2 pointers\n",
    "        \n",
    "        while p < len(self.pairs) and q < len(vec.pairs):\n",
    "            if self.pairs[p][0] == vec.pairs[q][0]:\n",
    "                result += self.pairs[p][1] * vec.pairs[q][1]\n",
    "                p += 1\n",
    "                q += 1\n",
    "            elif self.pairs[p][0] < vec.pairs[q][0]:\n",
    "                p += 1\n",
    "            else:\n",
    "                q += 1\n",
    "        \n",
    "        return result\n",
    "\n",
    "v1 = SparseVector(num1)\n",
    "v2 = SparseVector(num2)\n",
    "ans = v1.dotProduct(v2)\n",
    "ans"
   ]
  },
  {
   "cell_type": "code",
   "execution_count": 22,
   "metadata": {},
   "outputs": [
    {
     "data": {
      "text/plain": [
       "8"
      ]
     },
     "execution_count": 22,
     "metadata": {},
     "output_type": "execute_result"
    }
   ],
   "source": [
    "class SparseVector:\n",
    "    def __init__(self, nums):\n",
    "        self.pairs = []\n",
    "        for i,num in enumerate(nums):\n",
    "            if num != 0:\n",
    "                self.pairs.append((i, num))\n",
    "\n",
    "    def dotProduct(self, vec):\n",
    "        result = 0\n",
    "        p,q = 0,0\n",
    "        while p < len(self.pairs) and q < len(vec.pairs):\n",
    "            if self.pairs[p][0] == vec.pairs[q][0]:\n",
    "                result += self.pairs[p][1] * vec.pairs[q][1]\n",
    "                p+=1\n",
    "                q+=1\n",
    "            elif self.pairs[p][0] < vec.pairs[q][0]:\n",
    "                p+=1\n",
    "            else:\n",
    "                q+=1\n",
    "\n",
    "        return result\n",
    "\n",
    "v1 = SparseVector(num1)\n",
    "v2 = SparseVector(num2)\n",
    "ans = v1.dotProduct(v2)\n",
    "ans"
   ]
  }
 ],
 "metadata": {
  "kernelspec": {
   "display_name": "base",
   "language": "python",
   "name": "python3"
  },
  "language_info": {
   "codemirror_mode": {
    "name": "ipython",
    "version": 3
   },
   "file_extension": ".py",
   "mimetype": "text/x-python",
   "name": "python",
   "nbconvert_exporter": "python",
   "pygments_lexer": "ipython3",
   "version": "3.10.9"
  }
 },
 "nbformat": 4,
 "nbformat_minor": 2
}
