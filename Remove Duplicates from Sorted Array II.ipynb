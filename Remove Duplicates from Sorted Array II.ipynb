{
 "cells": [
  {
   "cell_type": "code",
   "execution_count": 3,
   "metadata": {},
   "outputs": [
    {
     "data": {
      "text/plain": [
       "7"
      ]
     },
     "execution_count": 3,
     "metadata": {},
     "output_type": "execute_result"
    }
   ],
   "source": [
    "def removeDuplicates(nums) -> int:\n",
    "    i = 0\n",
    "    for n in nums:\n",
    "        if i < 2 or n > nums[i-2]:\n",
    "            nums[i] = n\n",
    "            i += 1\n",
    "    return i\n",
    "\n",
    "\n",
    "nums = [0,0,1,1,1,1,2,3,3]\n",
    "removeDuplicates(nums)"
   ]
  },
  {
   "cell_type": "code",
   "execution_count": 2,
   "metadata": {},
   "outputs": [
    {
     "data": {
      "text/plain": [
       "7"
      ]
     },
     "execution_count": 2,
     "metadata": {},
     "output_type": "execute_result"
    }
   ],
   "source": [
    "\n",
    "def removeDuplicates(nums) -> int:\n",
    "    l,r = 0,0\n",
    "\n",
    "    while r < len(nums):\n",
    "        count = 1\n",
    "        while (r+1 < len(nums)) and (nums[r] == nums[r+1]):\n",
    "            r+=1\n",
    "            count+=1\n",
    "\n",
    "        for i in range(min(2, count)):\n",
    "            nums[l] = nums[r]\n",
    "            l+=1\n",
    "        r += 1\n",
    "    return l\n",
    "\n",
    "\n",
    "nums = [0,0,1,1,1,1,2,3,3]\n",
    "removeDuplicates(nums)"
   ]
  }
 ],
 "metadata": {
  "kernelspec": {
   "display_name": "base",
   "language": "python",
   "name": "python3"
  },
  "language_info": {
   "codemirror_mode": {
    "name": "ipython",
    "version": 3
   },
   "file_extension": ".py",
   "mimetype": "text/x-python",
   "name": "python",
   "nbconvert_exporter": "python",
   "pygments_lexer": "ipython3",
   "version": "3.10.9"
  },
  "orig_nbformat": 4
 },
 "nbformat": 4,
 "nbformat_minor": 2
}
