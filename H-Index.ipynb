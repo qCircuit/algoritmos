{
 "cells": [
  {
   "cell_type": "code",
   "execution_count": 41,
   "metadata": {},
   "outputs": [],
   "source": [
    "citations = [3,0,6,1,5]\n",
    "# citations = [1,3,1]\n",
    "# citations = [1,1]\n",
    "# citations = [100]"
   ]
  },
  {
   "cell_type": "code",
   "execution_count": 46,
   "metadata": {},
   "outputs": [
    {
     "data": {
      "text/plain": [
       "3"
      ]
     },
     "execution_count": 46,
     "metadata": {},
     "output_type": "execute_result"
    }
   ],
   "source": [
    "def hIndex(citations):\n",
    "    citations.sort(reverse=True)\n",
    "\n",
    "    for idx, val in enumerate(citations):\n",
    "        if idx >= val:\n",
    "            return idx\n",
    "        \n",
    "    return len(citations)\n",
    "\n",
    "hIndex(citations)"
   ]
  },
  {
   "cell_type": "code",
   "execution_count": 47,
   "metadata": {},
   "outputs": [
    {
     "data": {
      "text/plain": [
       "3"
      ]
     },
     "execution_count": 47,
     "metadata": {},
     "output_type": "execute_result"
    }
   ],
   "source": [
    "def hIndex(citations):\n",
    "    return sum(idx < val for idx,val in enumerate(sorted(citations, reverse=True)))\n",
    "\n",
    "hIndex(citations)"
   ]
  }
 ],
 "metadata": {
  "kernelspec": {
   "display_name": "base",
   "language": "python",
   "name": "python3"
  },
  "language_info": {
   "codemirror_mode": {
    "name": "ipython",
    "version": 3
   },
   "file_extension": ".py",
   "mimetype": "text/x-python",
   "name": "python",
   "nbconvert_exporter": "python",
   "pygments_lexer": "ipython3",
   "version": "3.10.9"
  },
  "orig_nbformat": 4
 },
 "nbformat": 4,
 "nbformat_minor": 2
}
