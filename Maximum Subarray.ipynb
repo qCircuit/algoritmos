{
 "cells": [
  {
   "cell_type": "code",
   "execution_count": 3,
   "metadata": {},
   "outputs": [
    {
     "data": {
      "text/plain": [
       "23"
      ]
     },
     "execution_count": 3,
     "metadata": {},
     "output_type": "execute_result"
    }
   ],
   "source": [
    "def maxSubArray(nums):\n",
    "    maxSum = nums[0]\n",
    "    currentSum = nums[0]\n",
    "\n",
    "    for num in nums[1:]:\n",
    "        currentSum = max(num, currentSum + num)\n",
    "        maxSum = max(maxSum, currentSum)\n",
    "\n",
    "    return maxSum\n",
    "\n",
    "nums = [-2,1,-3,4,-1,2,1,-5,4]\n",
    "nums = [5,4,-1,7,8]\n",
    "maxSubArray(nums)\n"
   ]
  },
  {
   "cell_type": "code",
   "execution_count": 4,
   "metadata": {},
   "outputs": [
    {
     "data": {
      "text/plain": [
       "23"
      ]
     },
     "execution_count": 4,
     "metadata": {},
     "output_type": "execute_result"
    }
   ],
   "source": [
    "def maxSubArray(nums):\n",
    "    maxSum = nums[0]\n",
    "    currentSum = nums[0]\n",
    "\n",
    "    for num in nums[1:]:\n",
    "        currentSum = max(currentSum+num, num)\n",
    "        maxSum = max(maxSum, currentSum)\n",
    "    return maxSum\n",
    "\n",
    "nums = [-2,1,-3,4,-1,2,1,-5,4]\n",
    "nums = [5,4,-1,7,8]\n",
    "maxSubArray(nums)"
   ]
  }
 ],
 "metadata": {
  "kernelspec": {
   "display_name": "base",
   "language": "python",
   "name": "python3"
  },
  "language_info": {
   "codemirror_mode": {
    "name": "ipython",
    "version": 3
   },
   "file_extension": ".py",
   "mimetype": "text/x-python",
   "name": "python",
   "nbconvert_exporter": "python",
   "pygments_lexer": "ipython3",
   "version": "3.10.9"
  }
 },
 "nbformat": 4,
 "nbformat_minor": 2
}
