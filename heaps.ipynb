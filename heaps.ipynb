{
 "cells": [
  {
   "cell_type": "code",
   "execution_count": 27,
   "metadata": {},
   "outputs": [
    {
     "name": "stdout",
     "output_type": "stream",
     "text": [
      "original [1, 2, 3, 7, 8, 20, 5, 8, 10, 11, 9]\n",
      "\n",
      "popping:\n",
      "1\n",
      "[2, 7, 3, 8, 8, 20, 5, 9, 10, 11]\n",
      "\n",
      "pushing:\n",
      "None\n",
      "[2, 3, 3, 8, 7, 20, 5, 9, 10, 11, 8]\n",
      "\n",
      "turning to max heap (min heap only by default) | option 1:\n",
      "max heap [20, 11, 5, 10, 8, 3, 2, 9, 8, 7, 3]\n",
      "\n",
      "turning to max heap | option 2:\n",
      "max heap [20, 11, 10, 8, 9, 3, 5, 7, 1, 8, 2]\n",
      "20\n",
      "11\n",
      "\n",
      "merging 2 lists & heapify:\n",
      "[1, 2, 3, 4, 10, 2, 3, 7]\n"
     ]
    }
   ],
   "source": [
    "import heapq\n",
    "data = [10, 2, 3, 7, 11, 20, 5, 8, 1, 8, 9]\n",
    "heapq.heapify(data)\n",
    "print(\"original\", data)\n",
    "\n",
    "print(\"\\npopping:\")\n",
    "print(heapq.heappop(data))\n",
    "print(data)\n",
    "\n",
    "print(\"\\npushing:\")\n",
    "print(heapq.heappush(data, 3))\n",
    "print(data)\n",
    "\n",
    "print(\"\\nturning to max heap (min heap only by default) | option 1:\")\n",
    "data=[-e for e in data]\n",
    "heapq.heapify(data)\n",
    "data=[-e for e in data]\n",
    "print(\"max heap\", data)\n",
    "\n",
    "print(\"\\nturning to max heap | option 2:\")\n",
    "data = [10, 2, 3, 7, 11, 20, 5, 8, 1, 8, 9]\n",
    "heapq._heapify_max(data)\n",
    "print(\"max heap\", data)\n",
    "# both seem to be valid:\n",
    "print(heapq._heappop_max(data))\n",
    "print(heapq.heappop(data))\n",
    "\n",
    "print(\"\\nmerging 2 lists & heapify:\")\n",
    "data1 = [10, 2, 3, 7]\n",
    "data2 = [1, 2, 3, 4]\n",
    "data = list(heapq.merge(data1, data2))\n",
    "print(data)"
   ]
  },
  {
   "cell_type": "code",
   "execution_count": 7,
   "metadata": {},
   "outputs": [
    {
     "name": "stdout",
     "output_type": "stream",
     "text": [
      "[1, 2, 3, 7, 8, 20, 5, 8, 10, 11, 9]\n"
     ]
    }
   ],
   "source": []
  },
  {
   "cell_type": "code",
   "execution_count": 9,
   "metadata": {},
   "outputs": [
    {
     "name": "stdout",
     "output_type": "stream",
     "text": [
      "5\n",
      "7\n",
      "8\n",
      "8\n"
     ]
    }
   ],
   "source": [
    "print(heapq.heappop(data))\n",
    "print(heapq.heappop(data))\n",
    "print(heapq.heappop(data))\n",
    "print(heapq.heappop(data))"
   ]
  }
 ],
 "metadata": {
  "kernelspec": {
   "display_name": "base",
   "language": "python",
   "name": "python3"
  },
  "language_info": {
   "codemirror_mode": {
    "name": "ipython",
    "version": 3
   },
   "file_extension": ".py",
   "mimetype": "text/x-python",
   "name": "python",
   "nbconvert_exporter": "python",
   "pygments_lexer": "ipython3",
   "version": "3.10.9"
  },
  "orig_nbformat": 4
 },
 "nbformat": 4,
 "nbformat_minor": 2
}
