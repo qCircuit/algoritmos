{
 "cells": [
  {
   "cell_type": "code",
   "execution_count": 7,
   "metadata": {},
   "outputs": [],
   "source": [
    "nums = [2,3,1,1,4]"
   ]
  },
  {
   "cell_type": "code",
   "execution_count": 3,
   "metadata": {},
   "outputs": [
    {
     "data": {
      "text/plain": [
       "True"
      ]
     },
     "execution_count": 3,
     "metadata": {},
     "output_type": "execute_result"
    }
   ],
   "source": [
    "def canJump(nums):\n",
    "    goal = len(nums)\n",
    "\n",
    "    for i in range(len(nums)-1, -1, -1):\n",
    "        if i + nums[i] >= goal:\n",
    "            goal = i\n",
    "\n",
    "    return True if goal == 0 else False\n",
    "\n",
    "canJump(nums)"
   ]
  },
  {
   "cell_type": "code",
   "execution_count": 8,
   "metadata": {},
   "outputs": [
    {
     "name": "stdout",
     "output_type": "stream",
     "text": [
      "i 4\n",
      "nums[i] 4\n",
      "goal 5\n",
      "\n",
      "i 3\n",
      "nums[i] 1\n",
      "goal 4\n",
      "\n",
      "i 2\n",
      "nums[i] 1\n",
      "goal 3\n",
      "\n",
      "i 1\n",
      "nums[i] 3\n",
      "goal 2\n",
      "\n",
      "i 0\n",
      "nums[i] 2\n",
      "goal 1\n",
      "\n"
     ]
    }
   ],
   "source": [
    "def canJump(nums):\n",
    "    goal =len(nums)\n",
    "    for i in range(len(nums-1), -1, -1):\n",
    "        if i + nums[i] >= goal:\n",
    "            goal = i\n",
    "    return True if goal == 0 else False"
   ]
  }
 ],
 "metadata": {
  "kernelspec": {
   "display_name": "base",
   "language": "python",
   "name": "python3"
  },
  "language_info": {
   "codemirror_mode": {
    "name": "ipython",
    "version": 3
   },
   "file_extension": ".py",
   "mimetype": "text/x-python",
   "name": "python",
   "nbconvert_exporter": "python",
   "pygments_lexer": "ipython3",
   "version": "3.10.9"
  },
  "orig_nbformat": 4
 },
 "nbformat": 4,
 "nbformat_minor": 2
}
