{
 "cells": [
  {
   "cell_type": "code",
   "execution_count": 25,
   "metadata": {},
   "outputs": [],
   "source": [
    "arr = [4, 2, 9, 7, 5, 6, 7, 1, 3]\n",
    "k=4"
   ]
  },
  {
   "cell_type": "code",
   "execution_count": 27,
   "metadata": {},
   "outputs": [
    {
     "data": {
      "text/plain": [
       "6"
      ]
     },
     "execution_count": 27,
     "metadata": {},
     "output_type": "execute_result"
    }
   ],
   "source": [
    "import heapq\n",
    "\n",
    "def kth_largest(arr, k):\n",
    "    arr = [-el for el in arr] #n\n",
    "    heapq.heapify(arr) #n\n",
    "    for i in range(k-1): #k-1\n",
    "        heapq.heappop(arr) #logn\n",
    "\n",
    "    return -heapq.heappop(arr) #logn\n",
    "\n",
    "kth_largest(arr, k)\n",
    "\n",
    "# 2n + (k-1)*logn+logn\n",
    "# O(n+logn) \n",
    "# k _> n => O(logn)\n",
    "# k _> 0 => O(n)"
   ]
  },
  {
   "cell_type": "code",
   "execution_count": 20,
   "metadata": {},
   "outputs": [
    {
     "data": {
      "text/plain": [
       "6"
      ]
     },
     "execution_count": 20,
     "metadata": {},
     "output_type": "execute_result"
    }
   ],
   "source": [
    "def kth_largest(arr, k):\n",
    "    for i in range(k-1): # k-1\n",
    "        arr.remove(max(arr)) # n\n",
    "    return max(arr) # n\n",
    "\n",
    "kth_largest(arr, k)\n",
    "\n",
    "# (k-1)*n + n\n",
    "# O(kn)"
   ]
  },
  {
   "cell_type": "code",
   "execution_count": 5,
   "metadata": {},
   "outputs": [
    {
     "data": {
      "text/plain": [
       "5"
      ]
     },
     "execution_count": 5,
     "metadata": {},
     "output_type": "execute_result"
    }
   ],
   "source": [
    "def kth_largest(arr, k):\n",
    "    return sorted(arr, reverse=True)[k]\n",
    "\n",
    "kth_largest(arr, k)\n",
    "\n",
    "# O(nlogn)"
   ]
  }
 ],
 "metadata": {
  "kernelspec": {
   "display_name": "base",
   "language": "python",
   "name": "python3"
  },
  "language_info": {
   "codemirror_mode": {
    "name": "ipython",
    "version": 3
   },
   "file_extension": ".py",
   "mimetype": "text/x-python",
   "name": "python",
   "nbconvert_exporter": "python",
   "pygments_lexer": "ipython3",
   "version": "3.10.9"
  },
  "orig_nbformat": 4
 },
 "nbformat": 4,
 "nbformat_minor": 2
}
