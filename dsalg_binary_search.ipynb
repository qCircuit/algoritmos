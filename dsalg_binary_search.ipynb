{
 "cells": [
  {
   "cell_type": "code",
   "execution_count": 3,
   "metadata": {},
   "outputs": [],
   "source": [
    "tests = [\n",
    "    {\"input\": {\n",
    "        \"cards\": [13, 11, 10, 7, 4, 3, 1],\n",
    "        \"query\": 7\n",
    "    },\n",
    "    \"output\": 3},\n",
    "    {\"input\": {\n",
    "        \"cards\": [13, 11, 10, -1],\n",
    "        \"query\": 13\n",
    "    },\n",
    "    \"output\": 0},\n",
    "    {\"input\": {\n",
    "        \"cards\": [13],\n",
    "        \"query\": 13\n",
    "    },\n",
    "    \"output\": 0},\n",
    "    {\"input\": {\n",
    "        \"cards\": [13, 11, 10, 7, 4, 3, 1],\n",
    "        \"query\": 9\n",
    "    },\n",
    "    \"output\": -1},\n",
    "    {\"input\": {\n",
    "        \"cards\": [],\n",
    "        \"query\": 9\n",
    "    },\n",
    "    \"output\": -1},\n",
    "    {\"input\": {\n",
    "        \"cards\": [13, 11, 11, 11, 11, 10, 7, 4, 3, 1],\n",
    "        \"query\": 11\n",
    "    },\n",
    "    \"output\": 1}\n",
    "]"
   ]
  },
  {
   "cell_type": "code",
   "execution_count": 28,
   "metadata": {},
   "outputs": [
    {
     "name": "stdout",
     "output_type": "stream",
     "text": [
      "True\n",
      "True\n",
      "True\n",
      "True\n",
      "True\n",
      "False\n"
     ]
    }
   ],
   "source": [
    "def locate_card(cards, query):\n",
    "    left, right = 0, len(cards) -1\n",
    "    while left <= right:\n",
    "        mid = (left + right) // 2\n",
    "        if cards[mid] == query:\n",
    "            return mid\n",
    "        elif cards[mid] < query:\n",
    "            right = mid - 1\n",
    "        elif cards[mid] > query:\n",
    "            left = mid + 1\n",
    "\n",
    "    return -1\n",
    "\n",
    "for test in tests:\n",
    "    print(locate_card(**test[\"input\"]) == test[\"output\"])"
   ]
  },
  {
   "cell_type": "code",
   "execution_count": 7,
   "metadata": {},
   "outputs": [
    {
     "name": "stdout",
     "output_type": "stream",
     "text": [
      "True\n",
      "True\n",
      "True\n",
      "True\n",
      "True\n",
      "True\n"
     ]
    }
   ],
   "source": [
    "def test_location(cards, query, mid):\n",
    "    if cards[mid] == query:\n",
    "        if mid-1 > 0 and cards[mid-1] == query:\n",
    "            return \"left\"\n",
    "        else:\n",
    "            return \"found\"\n",
    "    elif cards[mid] < query:\n",
    "        return \"left\"\n",
    "    else:\n",
    "        return \"right\"\n",
    "\n",
    "def locate_card(cards, query):\n",
    "    left, right = 0, len(cards) -1\n",
    "    while left <= right:\n",
    "        mid = (left + right) // 2\n",
    "        result = test_location(cards, query, mid)\n",
    "\n",
    "        if result == \"found\":\n",
    "            return mid\n",
    "        elif result == \"left\":\n",
    "            right = mid - 1\n",
    "        elif result == \"right\":\n",
    "            left = mid + 1\n",
    "\n",
    "    return -1\n",
    "\n",
    "for test in tests:\n",
    "    print(locate_card(**test[\"input\"]) == test[\"output\"])"
   ]
  },
  {
   "cell_type": "code",
   "execution_count": 6,
   "metadata": {},
   "outputs": [
    {
     "name": "stdout",
     "output_type": "stream",
     "text": [
      "True\n",
      "True\n",
      "True\n",
      "True\n",
      "True\n",
      "True\n"
     ]
    }
   ],
   "source": [
    "def binary_search(lo, hi, condition):\n",
    "    while lo <= hi:\n",
    "        mid = (lo+hi) // 2\n",
    "        result = condition(mid)\n",
    "        if result == \"found\":\n",
    "            return mid\n",
    "        elif result == \"left\":\n",
    "            hi = mid - 1\n",
    "        else:\n",
    "            lo = mid + 1\n",
    "\n",
    "    return -1\n",
    "\n",
    "def locate_card(cards, query):\n",
    "    def condition(mid):\n",
    "        if cards[mid] == query:\n",
    "            if mid > 0 and cards[mid-1] == query:\n",
    "                return \"left\"\n",
    "            else:\n",
    "                return \"found\"\n",
    "        elif cards[mid] < query:\n",
    "            return \"left\"\n",
    "        else:\n",
    "            return \"right\"\n",
    "        \n",
    "    return binary_search(0, len(cards)-1, condition)\n",
    "\n",
    "for test in tests:\n",
    "    print(locate_card(**test[\"input\"]) == test[\"output\"])"
   ]
  },
  {
   "cell_type": "code",
   "execution_count": 16,
   "metadata": {},
   "outputs": [
    {
     "data": {
      "text/plain": [
       "[-1, -1]"
      ]
     },
     "execution_count": 16,
     "metadata": {},
     "output_type": "execute_result"
    }
   ],
   "source": [
    "def binary_search(lo, hi, condition):\n",
    "    while lo <= hi:\n",
    "        mid = (lo + hi) // 2\n",
    "        result = condition(mid)\n",
    "        if result == 'found':\n",
    "            return mid\n",
    "        elif result == 'left':\n",
    "            hi = mid - 1\n",
    "        else:\n",
    "            lo = mid + 1\n",
    "    return -1\n",
    "\n",
    "def first_position(nums, target):\n",
    "    def condition(mid):\n",
    "        if nums[mid] == target:\n",
    "            if mid > 0 and nums[mid-1] == target:\n",
    "                return 'left'\n",
    "            return 'found'\n",
    "        elif nums[mid] < target:\n",
    "            return 'right'\n",
    "        else:\n",
    "            return 'left'\n",
    "    return binary_search(0, len(nums)-1, condition)\n",
    "\n",
    "def last_position(nums, target):\n",
    "    def condition(mid):\n",
    "        if nums[mid] == target:\n",
    "            if mid < len(nums)-1 and nums[mid+1] == target:\n",
    "                return 'right'\n",
    "            return 'found'\n",
    "        elif nums[mid] < target:\n",
    "            return 'right'\n",
    "        else:\n",
    "            return 'left'\n",
    "    return binary_search(0, len(nums)-1, condition)\n",
    "\n",
    "def first_and_last_position(nums, target):\n",
    "    return first_position(nums, target), last_position(nums, target)"
   ]
  }
 ],
 "metadata": {
  "kernelspec": {
   "display_name": "base",
   "language": "python",
   "name": "python3"
  },
  "language_info": {
   "codemirror_mode": {
    "name": "ipython",
    "version": 3
   },
   "file_extension": ".py",
   "mimetype": "text/x-python",
   "name": "python",
   "nbconvert_exporter": "python",
   "pygments_lexer": "ipython3",
   "version": "3.10.9"
  },
  "orig_nbformat": 4
 },
 "nbformat": 4,
 "nbformat_minor": 2
}
