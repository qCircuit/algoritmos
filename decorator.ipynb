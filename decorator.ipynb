{
 "cells": [
  {
   "cell_type": "code",
   "execution_count": 9,
   "metadata": {},
   "outputs": [
    {
     "name": "stdout",
     "output_type": "stream",
     "text": [
      "calc...\n"
     ]
    }
   ],
   "source": [
    "'''\n",
    "Кэширующий декоратор: Мы хотим написать декоратор, который будет добавлять логику \n",
    "кеширования к нашим функциям, которые в свою очередь на вход могут получать \n",
    "только не именованные аргументы \n",
    "'''\n",
    "\n",
    "def cache_decorator(func):\n",
    "    cache = {}\n",
    "\n",
    "    def wrapper(*args):\n",
    "        if args not in cache:\n",
    "            result = func(*args)\n",
    "            cache[args] = result\n",
    "\n",
    "        return cache[args]\n",
    "    \n",
    "    return wrapper\n",
    "\n",
    "@cache_decorator\n",
    "def example_function(a,b):\n",
    "    print(\"calc...\")\n",
    "    return a+b\n",
    "\n",
    "r1 = example_function(2, 3)\n",
    "r2 = example_function(2, 3)\n"
   ]
  },
  {
   "cell_type": "code",
   "execution_count": 4,
   "metadata": {},
   "outputs": [
    {
     "name": "stdout",
     "output_type": "stream",
     "text": [
      "calc\n"
     ]
    },
    {
     "data": {
      "text/plain": [
       "3"
      ]
     },
     "execution_count": 4,
     "metadata": {},
     "output_type": "execute_result"
    }
   ],
   "source": [
    "def cache_decorator(func):\n",
    "    cache = {}\n",
    "\n",
    "    def wrapper(*args):\n",
    "        if args not in cache:\n",
    "            cache[args] = func(*args)\n",
    "\n",
    "        return cache[args]\n",
    "    \n",
    "    return wrapper\n",
    "\n",
    "@cache_decorator\n",
    "def example_function(a,b):\n",
    "    print(\"calc\")\n",
    "    return a+b\n",
    "\n",
    "example_function(1,2)\n",
    "example_function(1,2)"
   ]
  },
  {
   "cell_type": "code",
   "execution_count": null,
   "metadata": {},
   "outputs": [],
   "source": []
  }
 ],
 "metadata": {
  "kernelspec": {
   "display_name": "base",
   "language": "python",
   "name": "python3"
  },
  "language_info": {
   "codemirror_mode": {
    "name": "ipython",
    "version": 3
   },
   "file_extension": ".py",
   "mimetype": "text/x-python",
   "name": "python",
   "nbconvert_exporter": "python",
   "pygments_lexer": "ipython3",
   "version": "3.10.9"
  }
 },
 "nbformat": 4,
 "nbformat_minor": 2
}
