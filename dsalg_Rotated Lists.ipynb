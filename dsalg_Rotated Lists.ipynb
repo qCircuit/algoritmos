{
 "cells": [
  {
   "cell_type": "markdown",
   "metadata": {},
   "source": [
    "You are given list of numbers, obtained by rotating a sorted list an unknown number of times. Write a function to determine the minimum number of times the original sorted list was rotated to obtain the given list. Your function should have the worst-case complexity of O(log N), where N is the length of the list. You can assume that all the numbers in the list are unique.\n",
    "\n",
    "Example: The list [5, 6, 9, 0, 2, 3, 4] was obtained by rotating the sorted list [0, 2, 3, 4, 5, 6, 9] 3 times.\n",
    "\n",
    "We define \"rotating a list\" as removing the last element of the list and adding it before the first element. E.g. rotating the list [3, 2, 4, 1] produces [1, 3, 2, 4].\n",
    "\n",
    "\"Sorted list\" refers to a list where the elements are arranged in the increasing order e.g. [1, 3, 5, 7]."
   ]
  },
  {
   "cell_type": "code",
   "execution_count": 7,
   "metadata": {},
   "outputs": [
    {
     "ename": "IndexError",
     "evalue": "list index out of range",
     "output_type": "error",
     "traceback": [
      "\u001b[0;31m---------------------------------------------------------------------------\u001b[0m",
      "\u001b[0;31mIndexError\u001b[0m                                Traceback (most recent call last)",
      "\u001b[1;32m/home/hilbert/algoritmos/dsalg_Rotated Lists.ipynb Cell 2\u001b[0m line \u001b[0;36m2\n\u001b[1;32m      <a href='vscode-notebook-cell:/home/hilbert/algoritmos/dsalg_Rotated%20Lists.ipynb#W4sZmlsZQ%3D%3D?line=0'>1</a>\u001b[0m nums \u001b[39m=\u001b[39m [\u001b[39m4\u001b[39m, \u001b[39m9\u001b[39m, \u001b[39m0\u001b[39m, \u001b[39m2\u001b[39m, \u001b[39m3\u001b[39m]\n\u001b[0;32m----> <a href='vscode-notebook-cell:/home/hilbert/algoritmos/dsalg_Rotated%20Lists.ipynb#W4sZmlsZQ%3D%3D?line=1'>2</a>\u001b[0m nums[\u001b[39mlen\u001b[39;49m(nums)]\n",
      "\u001b[0;31mIndexError\u001b[0m: list index out of range"
     ]
    }
   ],
   "source": [
    "nums = [4, 9, 0, 2, 3]\n",
    "nums[len(nums)]"
   ]
  },
  {
   "cell_type": "code",
   "execution_count": 1,
   "metadata": {},
   "outputs": [],
   "source": [
    "\n",
    "def count_rotations(nums):\n",
    "    lo, hi = 0, len(nums)-1\n",
    "    while lo < hi:\n",
    "        mid = len(nums) // 2\n",
    "        if nums[mid+1] < nums[mid]:\n",
    "            return mid+1\n",
    "        if nums[mid] < \n",
    "        "
   ]
  },
  {
   "cell_type": "code",
   "execution_count": 2,
   "metadata": {},
   "outputs": [],
   "source": [
    "tests = [\n",
    "    {\n",
    "        \"input\" : {\n",
    "            \"nums\": [5, 6, 9, 0, 2, 3, 4]\n",
    "        },\n",
    "        \"output\": 3\n",
    "    },\n",
    "    {\n",
    "        \"input\" : {\n",
    "            \"nums\": [9, 7, 8]\n",
    "        },\n",
    "        \"output\": 1\n",
    "    },\n",
    "    {\n",
    "        \"input\" : {\n",
    "            \"nums\": [3, 5, 7, 9, 13]\n",
    "        },\n",
    "        \"output\": 0\n",
    "    },\n",
    "    {\n",
    "        \"input\" : {\n",
    "            \"nums\": []\n",
    "        },\n",
    "        \"output\": 0\n",
    "    },\n",
    "    {\n",
    "        \"input\" : {\n",
    "            \"nums\": [3]\n",
    "        },\n",
    "        \"output\": 0\n",
    "    },\n",
    "]"
   ]
  },
  {
   "cell_type": "code",
   "execution_count": 3,
   "metadata": {},
   "outputs": [
    {
     "name": "stdout",
     "output_type": "stream",
     "text": [
      "{'input': {'nums': [5, 6, 9, 0, 2, 3, 4]}, 'output': 3}\n",
      "{'input': {'nums': [9, 7, 8]}, 'output': 1}\n"
     ]
    }
   ],
   "source": [
    "for i in tests:\n",
    "    print(i)"
   ]
  }
 ],
 "metadata": {
  "kernelspec": {
   "display_name": "base",
   "language": "python",
   "name": "python3"
  },
  "language_info": {
   "codemirror_mode": {
    "name": "ipython",
    "version": 3
   },
   "file_extension": ".py",
   "mimetype": "text/x-python",
   "name": "python",
   "nbconvert_exporter": "python",
   "pygments_lexer": "ipython3",
   "version": "3.10.9"
  },
  "orig_nbformat": 4
 },
 "nbformat": 4,
 "nbformat_minor": 2
}
