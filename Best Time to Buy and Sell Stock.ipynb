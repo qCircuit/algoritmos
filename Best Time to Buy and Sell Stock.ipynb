{
 "cells": [
  {
   "cell_type": "code",
   "execution_count": 17,
   "metadata": {},
   "outputs": [],
   "source": [
    "prices = [7,1,5,3,6,4]\n",
    "# prices = []"
   ]
  },
  {
   "cell_type": "code",
   "execution_count": 15,
   "metadata": {},
   "outputs": [
    {
     "data": {
      "text/plain": [
       "0"
      ]
     },
     "execution_count": 15,
     "metadata": {},
     "output_type": "execute_result"
    }
   ],
   "source": [
    "def maxProfit(prices):\n",
    "    buy = 0\n",
    "    sell = 1\n",
    "    max_profit = 0\n",
    "\n",
    "    while sell<len(prices):\n",
    "        currentProfit = prices[sell] - prices[buy]\n",
    "        if prices[buy] < prices[sell]:\n",
    "            max_profit = max(max_profit, currentProfit)\n",
    "        else:\n",
    "            buy = sell\n",
    "        sell += 1\n",
    "\n",
    "    return max_profit\n",
    "\n",
    "maxProfit(prices)"
   ]
  }
 ],
 "metadata": {
  "kernelspec": {
   "display_name": "base",
   "language": "python",
   "name": "python3"
  },
  "language_info": {
   "codemirror_mode": {
    "name": "ipython",
    "version": 3
   },
   "file_extension": ".py",
   "mimetype": "text/x-python",
   "name": "python",
   "nbconvert_exporter": "python",
   "pygments_lexer": "ipython3",
   "version": "3.10.9"
  },
  "orig_nbformat": 4
 },
 "nbformat": 4,
 "nbformat_minor": 2
}
